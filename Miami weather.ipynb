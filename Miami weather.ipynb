{
 "cells": [
  {
   "cell_type": "markdown",
   "metadata": {},
   "source": [
    "# Miami most probable mean weather for 10.13-10.15\n",
    "- Request id of Miami\n",
    "- Create list of dates\n",
    "- Function get_min_temp():\n",
    "    - Request json with Miami id and date \n",
    "    - Apply mean() to data in dataframe\n",
    "    - set min_temp and predictability values using dataframe filter\n",
    "- Move values to DataFrame\n",
    "- Apply mean() to DataFrame\n",
    "- Save DataFrame"
   ]
  },
  {
   "cell_type": "code",
   "execution_count": null,
   "metadata": {},
   "outputs": [],
   "source": [
    "import requests\n",
    "import pandas as pd\n",
    "from pprint import pprint as pp"
   ]
  },
  {
   "cell_type": "code",
   "execution_count": 161,
   "metadata": {},
   "outputs": [],
   "source": [
    "json_city = requests.get(\"https://www.metaweather.com/api/location/search/?query=Miami\").json()\n",
    "id = json_city[0][\"woeid\"]"
   ]
  },
  {
   "cell_type": "code",
   "execution_count": 136,
   "metadata": {},
   "outputs": [
    {
     "name": "stdout",
     "output_type": "stream",
     "text": [
      "2019-10-13\n",
      "24.48684210526316 71.15789473684211\n",
      "2019-10-14\n",
      "24.941363636363636 72.72727272727273\n",
      "2019-10-15\n",
      "25.506666666666664 77.0\n"
     ]
    }
   ],
   "source": [
    "applicable_dates = ['2019-10-13','2019-10-14', '2019-10-15']\n",
    "min_temp_list = []\n",
    "\n",
    "\n",
    "def get_min_temp():\n",
    "    for date in applicable_dates:\n",
    "        df = pd.DataFrame(requests.get(\"https://www.metaweather.com/api/location/\"+str(id)+\"/\"+date.replace('-','/')+\"/\").json())\n",
    "        min_temp, predictability = df[['min_temp', 'predictability']].loc[(df['applicable_date'] == date)].mean()\n",
    "        print(date)\n",
    "        print(min_temp, predictability)\n",
    "        min_temp_list.append({\"date\":date, \"min_temp\":min_temp, \"predictability\":predictability})\n",
    "\n",
    "\n",
    "get_min_temp()\n",
    "\n"
   ]
  },
  {
   "cell_type": "code",
   "execution_count": 137,
   "metadata": {
    "scrolled": false
   },
   "outputs": [
    {
     "name": "stdout",
     "output_type": "stream",
     "text": [
      "[{'date': '2019-10-13',\n",
      "  'min_temp': 24.48684210526316,\n",
      "  'predictability': 71.15789473684211},\n",
      " {'date': '2019-10-14',\n",
      "  'min_temp': 24.941363636363636,\n",
      "  'predictability': 72.72727272727273},\n",
      " {'date': '2019-10-15', 'min_temp': 25.506666666666664, 'predictability': 77.0}]\n"
     ]
    }
   ],
   "source": [
    "pp(min_temp_list)"
   ]
  },
  {
   "cell_type": "code",
   "execution_count": 139,
   "metadata": {
    "scrolled": true
   },
   "outputs": [
    {
     "data": {
      "text/html": [
       "<div>\n",
       "<style scoped>\n",
       "    .dataframe tbody tr th:only-of-type {\n",
       "        vertical-align: middle;\n",
       "    }\n",
       "\n",
       "    .dataframe tbody tr th {\n",
       "        vertical-align: top;\n",
       "    }\n",
       "\n",
       "    .dataframe thead th {\n",
       "        text-align: right;\n",
       "    }\n",
       "</style>\n",
       "<table border=\"1\" class=\"dataframe\">\n",
       "  <thead>\n",
       "    <tr style=\"text-align: right;\">\n",
       "      <th></th>\n",
       "      <th>date</th>\n",
       "      <th>min_temp</th>\n",
       "      <th>predictability</th>\n",
       "    </tr>\n",
       "  </thead>\n",
       "  <tbody>\n",
       "    <tr>\n",
       "      <th>0</th>\n",
       "      <td>2019-10-13</td>\n",
       "      <td>24.486842</td>\n",
       "      <td>71.157895</td>\n",
       "    </tr>\n",
       "    <tr>\n",
       "      <th>1</th>\n",
       "      <td>2019-10-14</td>\n",
       "      <td>24.941364</td>\n",
       "      <td>72.727273</td>\n",
       "    </tr>\n",
       "    <tr>\n",
       "      <th>2</th>\n",
       "      <td>2019-10-15</td>\n",
       "      <td>25.506667</td>\n",
       "      <td>77.000000</td>\n",
       "    </tr>\n",
       "  </tbody>\n",
       "</table>\n",
       "</div>"
      ],
      "text/plain": [
       "         date   min_temp  predictability\n",
       "0  2019-10-13  24.486842       71.157895\n",
       "1  2019-10-14  24.941364       72.727273\n",
       "2  2019-10-15  25.506667       77.000000"
      ]
     },
     "execution_count": 139,
     "metadata": {},
     "output_type": "execute_result"
    }
   ],
   "source": [
    "min_temp_df = pd.DataFrame(min_temp_list)\n",
    "min_temp_df"
   ]
  },
  {
   "cell_type": "code",
   "execution_count": 175,
   "metadata": {
    "scrolled": true
   },
   "outputs": [
    {
     "name": "stdout",
     "output_type": "stream",
     "text": [
      "Minimal temperature in \u001b[1mMiami\u001b[0m for \u001b[1m2019-10-13\u001b[0m to \u001b[1m2019-10-15\u001b[0m is \u001b[1m24.98℃\u001b[0m with \u001b[1m73.63%\u001b[0m confidence\n"
     ]
    }
   ],
   "source": [
    "min_temp, predictability = pd.DataFrame(min_temp_list).mean()\n",
    "print(f\"Minimal temperature in \\033[1m{json_city[0]['title']}\\033[0m for \\033[1m{applicable_dates[0]}\\033[0m to \\033[1m{applicable_dates[-1]}\\033[0m is \\033[1m{round(min_temp, 2)}℃\\033[0m with \\033[1m{round(predictability,2)}%\\033[0m confidence\")"
   ]
  }
 ],
 "metadata": {
  "kernelspec": {
   "display_name": "Python 3",
   "language": "python",
   "name": "python3"
  },
  "language_info": {
   "codemirror_mode": {
    "name": "ipython",
    "version": 3
   },
   "file_extension": ".py",
   "mimetype": "text/x-python",
   "name": "python",
   "nbconvert_exporter": "python",
   "pygments_lexer": "ipython3",
   "version": "3.7.3"
  }
 },
 "nbformat": 4,
 "nbformat_minor": 2
}
