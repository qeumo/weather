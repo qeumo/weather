{
 "cells": [
  {
   "cell_type": "markdown",
   "metadata": {},
   "source": [
    "# Miami most probable mean weather for 10.13-10.15\n",
    "- Request id of Miami\n",
    "- Create list of dates\n",
    "- Function get_min_temp():\n",
    "    - Request json with Miami id and date \n",
    "    - Apply mean() to data in dataframe\n",
    "    - set min_temp and predictability values using dataframe filter\n",
    "    \n",
    "TODO:\n",
    "- Move values to DataFrame\n",
    "- Apply mean() to DataFrame"
   ]
  },
  {
   "cell_type": "code",
   "execution_count": null,
   "metadata": {},
   "outputs": [],
   "source": [
    "import requests\n",
    "import pandas as pd\n",
    "from pprint import pprint as pp"
   ]
  },
  {
   "cell_type": "code",
   "execution_count": 82,
   "metadata": {},
   "outputs": [],
   "source": [
    "json_city = requests.get(\"https://www.metaweather.com/api/location/search/?query=Miami\").json()\n",
    "id = json_city[0][\"woeid\"]"
   ]
  },
  {
   "cell_type": "code",
   "execution_count": 129,
   "metadata": {},
   "outputs": [
    {
     "name": "stdout",
     "output_type": "stream",
     "text": [
      "2019-10-13\n",
      "24.48684210526316 71.15789473684211\n",
      "2019-10-14\n",
      "24.941363636363636 72.72727272727273\n",
      "2019-10-15\n",
      "25.506666666666664 77.0\n"
     ]
    }
   ],
   "source": [
    "applicable_dates = ['2019-10-13','2019-10-14', '2019-10-15']\n",
    "\n",
    "\n",
    "def get_min_temp():\n",
    "    for date in applicable_dates:\n",
    "        df = pd.DataFrame(requests.get(\"https://www.metaweather.com/api/location/\"+str(id)+\"/\"+date.replace('-','/')+\"/\").json())\n",
    "        min_temp, predictability = df[['min_temp', 'predictability']].loc[(df['applicable_date'] == date)].mean()\n",
    "        print(date)\n",
    "        print(min_temp, predictability)\n",
    "\n",
    "\n",
    "get_min_temp()"
   ]
  },
  {
   "cell_type": "code",
   "execution_count": null,
   "metadata": {},
   "outputs": [],
   "source": []
  },
  {
   "cell_type": "code",
   "execution_count": null,
   "metadata": {},
   "outputs": [],
   "source": [
    "\n",
    "\n",
    "\n",
    "\n",
    "\n",
    "\n",
    "\n",
    "\n",
    "\n",
    "\n",
    "\n",
    "\n",
    "\n",
    "\n",
    "\n",
    "\n",
    "\n",
    "\n",
    "\n",
    "\n",
    "\n",
    "\n",
    "\n",
    "\n",
    "\n",
    "\n",
    "\n",
    "\n"
   ]
  }
 ],
 "metadata": {
  "kernelspec": {
   "display_name": "Python 3",
   "language": "python",
   "name": "python3"
  },
  "language_info": {
   "codemirror_mode": {
    "name": "ipython",
    "version": 3
   },
   "file_extension": ".py",
   "mimetype": "text/x-python",
   "name": "python",
   "nbconvert_exporter": "python",
   "pygments_lexer": "ipython3",
   "version": "3.7.3"
  }
 },
 "nbformat": 4,
 "nbformat_minor": 2
}
